{
 "cells": [
  {
   "cell_type": "code",
   "execution_count": 3,
   "id": "92424f87",
   "metadata": {},
   "outputs": [],
   "source": [
    "#our neural network class\n",
    "import numpy\n",
    "import scipy.special\n",
    "import matplotlib.pyplot\n",
    "\n",
    "class neuralNetwork:\n",
    "    \n",
    "    def __init__(self,no_of_Inodes,no_of_Hnodes,no_of_Onodes,learning_rate):\n",
    "        self.inputnodes = no_of_Inodes\n",
    "        self.hiddennodes = no_of_Hnodes\n",
    "        self.outputnodes = no_of_Onodes\n",
    "        self.lr = learning_rate\n",
    "        \n",
    "        self.w_input_hidden = numpy.random.normal(0.0,pow(self.inputnodes,-0.5),(self.hiddennodes,self.inputnodes))\n",
    "        self.w_hidden_output = numpy.random.normal(0.0,pow(self.hiddennodes,-0.5),(self.outputnodes,self.hiddennodes))\n",
    "        \n",
    "        self.activation_function = lambda x: scipy.special.expit(x)\n",
    "        pass\n",
    "    \n",
    "    # this function train our neural network\n",
    "    #input_values and target_values are lists. It's not a single value\n",
    "    def train(self, input_values,target_values):\n",
    "        inputs = numpy.array(input_values,ndmin=2).T\n",
    "        targets = numpy.array(target_values,ndmin=2).T\n",
    "        \n",
    "        hidden_inputs = numpy.dot(self.w_input_hidden,inputs)\n",
    "        hidden_outputs = self.activation_function(hidden_inputs)\n",
    "        \n",
    "        final_inputs = numpy.dot(self.w_hidden_output, hidden_outputs)\n",
    "        final_outputs = self.activation_function(final_inputs)\n",
    "        \n",
    "        output_errors = targets - final_outputs\n",
    "        hidden_errors = numpy.dot(self.w_hidden_output.T,output_errors)\n",
    "        \n",
    "        self.w_hidden_output += self.lr * numpy.dot((output_errors * final_outputs * (1.0 - final_outputs)), \n",
    "                                                    numpy.transpose(hidden_outputs))\n",
    "        \n",
    "        self.w_input_hidden += self.lr * numpy.dot((hidden_errors * hidden_outputs * (1.0 - hidden_outputs)), \n",
    "                                                    numpy.transpose(inputs))\n",
    "        pass\n",
    "    \n",
    "    #function to help us query from our neural network\n",
    "\n",
    "    def query(self,inputs_list):\n",
    "\n",
    "            inputs = numpy.array(inputs_list,ndmin=2).T\n",
    "\n",
    "            signal_into_hidden_layer = numpy.dot(self.w_input_hidden,inputs)\n",
    "            signal_from_hidden_layer = self.activation_function(signal_into_hidden_layer)\n",
    "\n",
    "            signal_into_output_layer = numpy.dot(self.w_hidden_output,signal_from_hidden_layer)\n",
    "            network_final_output = self.activation_function(signal_into_output_layer)\n",
    "\n",
    "            return network_final_output\n",
    "        \n",
    "no_input_nodes = 784\n",
    "no_hidden_nodes = 100\n",
    "no_output_nodes = 10\n",
    "\n",
    "learning_rate_value = 0.2\n",
    "\n",
    "#creating an instance of the neural network class\n",
    "n = neuralNetwork(no_input_nodes, no_hidden_nodes,no_output_nodes,learning_rate_value)\n",
    "\n",
    "#loading our dataset\n",
    "training_file = open(\"mnist_dataset/mnist_train.csv\",'r')\n",
    "training_list = training_file.readlines()\n",
    "training_file.close()\n",
    "\n",
    "#training our neural network \n",
    "for record in training_list:\n",
    "    all_values = record.split(',')\n",
    "    inputs = (numpy.asfarray(all_values[1:]) / 255.0 * 0.99) + 0.01\n",
    "    targets = numpy.zeros(no_output_nodes) + 0.01\n",
    "    targets[int(all_values[0])] = 0.99\n",
    "    n.train(inputs,targets)\n",
    "    pass\n",
    "        "
   ]
  },
  {
   "cell_type": "code",
   "execution_count": null,
   "id": "445f6272",
   "metadata": {},
   "outputs": [],
   "source": [
    "import numpy\n",
    "import matplotlib.pyplot\n",
    "\n",
    "train_file = open(\"mnist_dataset/mnist_train_100.csv\")\n",
    "train_dataset = train_file.readlines()\n",
    "train_file.close()\n",
    "all_values = train_dataset[0].split(',')\n",
    "image_array = numpy.asfarray(all_values[1:]).reshape((28,28))\n",
    "matplotlib.pyplot.imshow(image_array,cmap='Greys', interpolation='None')"
   ]
  },
  {
   "cell_type": "code",
   "execution_count": null,
   "id": "7e53c9e7",
   "metadata": {},
   "outputs": [],
   "source": [
    "import numpy\n",
    "train_file = open(\"mnist_dataset/mnist_train_100.csv\")\n",
    "train_dataset = train_file.readlines()\n",
    "train_file.close()\n",
    "all_values = train_dataset[0].split(',')\n",
    "scaled_input = (numpy.asfarray(all_values[1:])/ 255.0 * 0.99) + 0.01\n",
    "print(scaled_input)"
   ]
  },
  {
   "cell_type": "code",
   "execution_count": null,
   "id": "8a51fcf1",
   "metadata": {},
   "outputs": [],
   "source": [
    "import numpy\n",
    "train_file = open(\"mnist_dataset/mnist_train_100.csv\")\n",
    "train_dataset = train_file.readlines()\n",
    "train_file.close()\n",
    "all_values = train_dataset[0].split(',')\n",
    "output_nodes = 10\n",
    "targets = numpy.zeros(output_nodes) + 0.01\n",
    "targets[int(all_values[0])] = 0.99\n",
    "print(targets)"
   ]
  },
  {
   "cell_type": "code",
   "execution_count": 26,
   "id": "23a87f60",
   "metadata": {},
   "outputs": [
    {
     "name": "stdout",
     "output_type": "stream",
     "text": [
      "4\n"
     ]
    },
    {
     "data": {
      "text/plain": [
       "array([[0.15449224],\n",
       "       [0.0918423 ],\n",
       "       [0.0806917 ],\n",
       "       [0.14708242],\n",
       "       [0.35012654],\n",
       "       [0.05043975],\n",
       "       [0.15278382],\n",
       "       [0.18148702],\n",
       "       [0.14343467],\n",
       "       [0.04814019]])"
      ]
     },
     "execution_count": 26,
     "metadata": {},
     "output_type": "execute_result"
    }
   ],
   "source": [
    "test_file = open(\"mnist_dataset/mnist_test_10.csv\",'r')\n",
    "test_dataset = test_file.readlines()\n",
    "test_file.close()\n",
    "all_values = test_dataset[4].split(',')\n",
    "print(all_values[0])\n",
    "n.query((numpy.asfarray(all_values[1:])/255.0 * 0.99) + 0.01) "
   ]
  },
  {
   "cell_type": "code",
   "execution_count": 6,
   "id": "4a70c8ad",
   "metadata": {},
   "outputs": [
    {
     "name": "stdout",
     "output_type": "stream",
     "text": [
      "Network Accuracy 0.9498\n"
     ]
    }
   ],
   "source": [
    "#loading our full test dataset\n",
    "test_file = open(\"mnist_dataset/mnist_test.csv\",'r')\n",
    "test_dataset = test_file.readlines()\n",
    "test_file.close()\n",
    "\n",
    "scorecard = []\n",
    "\n",
    "#go through all the records in the test dataset\n",
    "for record in test_dataset:\n",
    "    all_values = record.split(',')\n",
    "    #the correct value is the one in the first index (python uses 0 base index)\n",
    "    label_we_want_to_predict = int(all_values[0])\n",
    "    inputs = (numpy.asfarray(all_values[1:]) / 255.0 * 0.99) + 0.01\n",
    "    outputs = n.query(inputs)\n",
    "    our_network_predicted_label = numpy.argmax(outputs)\n",
    "    if(our_network_predicted_label== label_we_want_to_predict):\n",
    "        scorecard.append(1)\n",
    "    else:\n",
    "        scorecard.append(0)\n",
    "        pass\n",
    "    pass\n",
    "\n",
    "scorecard_array = numpy.asarray(scorecard)\n",
    "print(\"Network Accuracy\",scorecard_array.sum()/scorecard_array.size)"
   ]
  },
  {
   "cell_type": "code",
   "execution_count": 10,
   "id": "c9634e45",
   "metadata": {},
   "outputs": [
    {
     "data": {
      "text/plain": [
       "[<matplotlib.lines.Line2D at 0x2d253aea4f0>]"
      ]
     },
     "execution_count": 10,
     "metadata": {},
     "output_type": "execute_result"
    },
    {
     "data": {
      "image/png": "[encoded data removed]",
      "text/plain": [
       "<Figure size 432x288 with 1 Axes>"
      ]
     },
     "metadata": {
      "needs_background": "light"
     },
     "output_type": "display_data"
    }
   ],
   "source": [
    "import matplotlib.pyplot as plt\n",
    "plt.plot(2,3,'ro')"
   ]
  },
  {
   "cell_type": "code",
   "execution_count": null,
   "id": "bef7877e",
   "metadata": {},
   "outputs": [],
   "source": [
    "learning_values = []\n",
    "performance_values = []\n",
    "learning_rate = 0\n",
    "for e in range(0,10):\n",
    "\n",
    "    learning_rate += 0.1\n",
    "    learning_values.append(learning_rate)\n",
    "    new_network = neuralNetwork(784, 100,10,learning_rate)\n",
    "\n",
    "    training_file = open(\"mnist_dataset/mnist_train.csv\",'r')\n",
    "    training_list = training_file.readlines()\n",
    "    training_file.close()\n",
    "    \n",
    "    for record in training_list:\n",
    "        all_values = record.split(',')\n",
    "        inputs = (numpy.asfarray(all_values[1:]) / 255.0 * 0.99) + 0.01\n",
    "        targets = numpy.zeros(no_output_nodes) + 0.01\n",
    "        targets[int(all_values[0])] = 0.99\n",
    "        new_network.train(inputs,targets)\n",
    "        pass\n",
    "    \n",
    "    test_file = open(\"mnist_dataset/mnist_test.csv\",'r')\n",
    "    test_dataset = test_file.readlines()\n",
    "    test_file.close()\n",
    "\n",
    "    scorecard = []\n",
    "    for record in test_dataset:\n",
    "        all_values = record.split(',')\n",
    "        label_we_want_to_predict = int(all_values[0])\n",
    "        inputs = (numpy.asfarray(all_values[1:]) / 255.0 * 0.99) + 0.01\n",
    "        outputs = new_network.query(inputs)\n",
    "        our_network_predicted_label = numpy.argmax(outputs)\n",
    "        if(our_network_predicted_label== label_we_want_to_predict):\n",
    "            scorecard.append(1)\n",
    "        else:\n",
    "            scorecard.append(0)\n",
    "            pass\n",
    "        pass\n",
    "    \n",
    "    scorecard_array = numpy.asarray(scorecard)\n",
    "    performance_values.append(scorecard_array.sum()/scorecard_array.size)\n",
    "    \n",
    "matplotlib.pyplot.plot(learning_values,performance_values,'go')\n",
    "matplotlib.pyplot.plot(learning_values,performance_values,'-r')"
   ]
  },
  {
   "cell_type": "code",
   "execution_count": 4,
   "id": "fa85a5d6",
   "metadata": {},
   "outputs": [
    {
     "name": "stdout",
     "output_type": "stream",
     "text": [
      "Network Accuracy 0.8888888888888888\n"
     ]
    }
   ],
   "source": []
  },
  {
   "cell_type": "code",
   "execution_count": 5,
   "id": "82e4e529",
   "metadata": {},
   "outputs": [],
   "source": [
    "#Converting our own images to pixel values and saving it as csv\n",
    "\n",
    "import glob\n",
    "import numpy\n",
    "import csv\n",
    "import imageio\n",
    "\n",
    "#converting images to excel for test dataset\n",
    "\n",
    "our_own_dataset = []\n",
    "for image_file_name in glob.glob('my_own_images/2828_my_own_' + '*' + '.png'):\n",
    "    label = image_file_name[26:27]\n",
    "    img_array = imageio.imread(image_file_name, as_gray=True)\n",
    "    img_data = 255 - img_array.reshape(784)\n",
    "    record = numpy.append(label,img_data)\n",
    "    our_own_dataset.append(record)\n",
    "    pass\n",
    "\n",
    "with open('my_own_images/2828_my_own.csv','w',newline=\"\") as f:\n",
    "    write = csv.writer(f)\n",
    "    write.writerows(our_own_dataset)"
   ]
  },
  {
   "cell_type": "code",
   "execution_count": null,
   "id": "32d95b72",
   "metadata": {},
   "outputs": [],
   "source": [
    "#TESTING OUR OWN IMAGES\n",
    "\n",
    "import numpy\n",
    "test_file = open(\"my_own_images/2828_my_own.csv\",'r')\n",
    "test_dataset = test_file.readlines()\n",
    "test_file.close()\n",
    "\n",
    "scorecard = []\n",
    "for record in test_dataset:\n",
    "    all_values = record.split(',')\n",
    "    label_we_want_to_predict = int(all_values[0])\n",
    "    inputs = (numpy.asfarray(all_values[1:]) / 255.0 * 0.99) + 0.01\n",
    "    outputs = n.query(inputs)\n",
    "    our_network_predicted_label = numpy.argmax(outputs)\n",
    "    if(our_network_predicted_label== label_we_want_to_predict):\n",
    "        scorecard.append(1)\n",
    "    else:\n",
    "        scorecard.append(0)\n",
    "        pass\n",
    "    pass\n",
    "\n",
    "scorecard_array = numpy.asarray(scorecard)\n",
    "print(\"Network Accuracy\",scorecard_array.sum()/scorecard_array.size)"
   ]
  }
 ],
 "metadata": {
  "kernelspec": {
   "display_name": "Python 3 (ipykernel)",
   "language": "python",
   "name": "python3"
  },
  "language_info": {
   "codemirror_mode": {
    "name": "ipython",
    "version": 3
   },
   "file_extension": ".py",
   "mimetype": "text/x-python",
   "name": "python",
   "nbconvert_exporter": "python",
   "pygments_lexer": "ipython3",
   "version": "3.9.7"
  }
 },
 "nbformat": 4,
 "nbformat_minor": 5
}
