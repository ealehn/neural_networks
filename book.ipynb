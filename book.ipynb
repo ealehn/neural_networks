{
 "cells": [
  {
   "cell_type": "code",
   "execution_count": 1,
   "id": "92424f87",
   "metadata": {},
   "outputs": [],
   "source": [
    "#our neural network class\n",
    "import numpy\n",
    "import scipy.special\n",
    "import matplotlib.pyplot\n",
    "\n",
    "class neuralNetwork:\n",
    "    \n",
    "    def __init__(self,no_of_Inodes,no_of_Hnodes,no_of_Onodes,learning_rate):\n",
    "        self.inputnodes = no_of_Inodes\n",
    "        self.hiddennodes = no_of_Hnodes\n",
    "        self.outputnodes = no_of_Onodes\n",
    "        self.lr = learning_rate\n",
    "        \n",
    "        self.w_input_hidden = numpy.random.normal(0.0,pow(self.inodes,-0.5),(self.hiddennodes,self.inputnodes))\n",
    "        self.w_hidden_output = numpy.random.normal(0.0,pow(self.inodes,-0.5),(self.outputnodes,self.hiddennodes))\n",
    "        \n",
    "        sellf.activation_function = lambda x: scipy.special.expit(x)\n",
    "        pass\n",
    "    \n",
    "    # this function train our neural network\n",
    "    #input_values and target_values are lists. It's not a single value\n",
    "    def train(self, input_values,target_values):\n",
    "        inputs = numpy.array(input_values,ndim=2).T\n",
    "        targets = numpy.array(target_values,ndim=2).T\n",
    "        \n",
    "        hidden_inputs = numpy.dot(self.w_input_hidden,inputs)\n",
    "        hidden_outputs = self.activation_function(hidden_inputs)\n",
    "        \n",
    "        final_inputs = numpy.dot(self.w_hidden_output, hidden_outputs)\n",
    "        final_outputs = self.activation_function(final_inputs)\n",
    "        \n",
    "        output_errors = targets - final_outputs\n",
    "        hidden_errors = numpy.dot(self.w_hidden_output.T,output_errors)\n",
    "        \n",
    "        self.w_hidden_output += self.lr * numpy.dot((output_errors * final_outputs * (1.0 - hidden_outputs)), \n",
    "                                                    numpy.transpose(inputs))\n",
    "        \n",
    "        self.w_input_hidden += self.lr * numpy.dot((hidden_errors * hidden_outputs * (1.0 - final_outputs)), \n",
    "                                                    numpy.transpose(hidden_outputs))\n",
    "        pass\n",
    "    \n",
    "    #function to help us query from our neural network\n",
    "\n",
    "    def query(self,inputs_list):\n",
    "\n",
    "            inputs = numpy.array(inputs_list,ndmin=2).T\n",
    "\n",
    "            signal_into_hidden_layer = numpy.dot(self.wih,inputs)\n",
    "            signal_from_hidden_layer = self.activation_function(Xh)\n",
    "\n",
    "            signal_into_output_layer = numpy.dot(self.who,Oh)\n",
    "            network_final_output = self.activation_function(Xout)\n",
    "\n",
    "            return signal_from_output_layer\n",
    "        "
   ]
  },
  {
   "cell_type": "code",
   "execution_count": null,
   "id": "445f6272",
   "metadata": {},
   "outputs": [],
   "source": [
    "import numpy\n",
    "import matplotlib.pyplot\n",
    "\n",
    "train_file = open(\"mnist_dataset/mnist_train_100.csv\")\n",
    "train_dataset = train_file.readlines()\n",
    "train_file.close()\n",
    "all_values = train_dataset[0].split(',')\n",
    "image_array = numpy.asfarray(all_values[1:]).reshape((28,28))\n",
    "matplotlib.pyplot.imshow(image_array,cmap='Greys', interpolation='None')"
   ]
  },
  {
   "cell_type": "code",
   "execution_count": null,
   "id": "7e53c9e7",
   "metadata": {},
   "outputs": [],
   "source": [
    "import numpy\n",
    "\n",
    "train_file = open(\"mnist_dataset/mnist_train_100.csv\")\n",
    "train_dataset = train_file.readlines()\n",
    "train_file.close()\n",
    "all_values = train_dataset[0].split(',')\n",
    "scaled_input = (numpy.asfarray(all_values[1:])/ 255.0 * 0.99) + 0.01\n",
    "print(scaled_input)"
   ]
  },
  {
   "cell_type": "code",
   "execution_count": 5,
   "id": "8a51fcf1",
   "metadata": {},
   "outputs": [
    {
     "name": "stdout",
     "output_type": "stream",
     "text": [
      "[0.01 0.01 0.01 0.01 0.01 0.99 0.01 0.01 0.01 0.01]\n"
     ]
    }
   ],
   "source": [
    "import numpy\n",
    "\n",
    "train_file = open(\"mnist_dataset/mnist_train_100.csv\")\n",
    "train_dataset = train_file.readlines()\n",
    "train_file.close()\n",
    "all_values = train_dataset[0].split(',')\n",
    "output_nodes = 10\n",
    "targets = numpy.zeros(output_nodes) + 0.01\n",
    "targets[int(all_values[0])] = 0.99\n",
    "print(targets)\n"
   ]
  },
  {
   "cell_type": "code",
   "execution_count": null,
   "id": "23a87f60",
   "metadata": {},
   "outputs": [],
   "source": []
  }
 ],
 "metadata": {
  "kernelspec": {
   "display_name": "Python 3 (ipykernel)",
   "language": "python",
   "name": "python3"
  },
  "language_info": {
   "codemirror_mode": {
    "name": "ipython",
    "version": 3
   },
   "file_extension": ".py",
   "mimetype": "text/x-python",
   "name": "python",
   "nbconvert_exporter": "python",
   "pygments_lexer": "ipython3",
   "version": "3.9.7"
  }
 },
 "nbformat": 4,
 "nbformat_minor": 5
}
