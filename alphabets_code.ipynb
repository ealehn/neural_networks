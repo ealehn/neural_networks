{
 "cells": [
  {
   "cell_type": "code",
   "execution_count": 43,
   "id": "92424f87",
   "metadata": {},
   "outputs": [
    {
     "name": "stdout",
     "output_type": "stream",
     "text": [
      "Training Done for  (10560,) records\n"
     ]
    }
   ],
   "source": [
    "#our neural network for alphabets recognition\n",
    "import numpy\n",
    "import scipy.special\n",
    "import matplotlib.pyplot\n",
    "\n",
    "class neuralNetwork:\n",
    "    \n",
    "    def __init__(self,no_of_Inodes,no_of_Hnodes,no_of_Onodes,learning_rate):\n",
    "        self.alphabets = [\"A\",\"B\",\"C\",\"D\",\"E\",\"F\",\"G\",\"H\",\"I\",\"J\",\"K\",\"L\",\"M\",\"N\",\"O\",\"P\",\"Q\",\"R\",\"S\",\"T\",\"U\",\"V\",\"W\",\"X\",\"Y\",\"Z\"]\n",
    "        self.inputnodes = no_of_Inodes\n",
    "        self.hiddennodes = no_of_Hnodes\n",
    "        self.outputnodes = no_of_Onodes\n",
    "        self.lr = learning_rate\n",
    "        \n",
    "        self.w_input_hidden = numpy.random.normal(0.0,pow(self.inputnodes,-0.5),(self.hiddennodes,self.inputnodes))\n",
    "        self.w_hidden_output = numpy.random.normal(0.0,pow(self.hiddennodes,-0.5),(self.outputnodes,self.hiddennodes))\n",
    "        \n",
    "        self.activation_function = lambda x: scipy.special.expit(x)\n",
    "        pass\n",
    "    \n",
    "    # this function train our neural network\n",
    "    #input_values and target_values are lists. It's not a single value\n",
    "    def train(self, input_values,target_values):\n",
    "        inputs = numpy.array(input_values,ndmin=2).T\n",
    "        targets = numpy.array(target_values,ndmin=2).T\n",
    "        \n",
    "        hidden_inputs = numpy.dot(self.w_input_hidden,inputs)\n",
    "        hidden_outputs = self.activation_function(hidden_inputs)\n",
    "        \n",
    "        final_inputs = numpy.dot(self.w_hidden_output, hidden_outputs)\n",
    "        final_outputs = self.activation_function(final_inputs)\n",
    "        \n",
    "        output_errors = targets - final_outputs\n",
    "        hidden_errors = numpy.dot(self.w_hidden_output.T,output_errors)\n",
    "        \n",
    "        self.w_hidden_output += self.lr * numpy.dot((output_errors * final_outputs * (1.0 - final_outputs)), \n",
    "                                                    numpy.transpose(hidden_outputs))\n",
    "        \n",
    "        self.w_input_hidden += self.lr * numpy.dot((hidden_errors * hidden_outputs * (1.0 - hidden_outputs)), \n",
    "                                                    numpy.transpose(inputs))\n",
    "        pass\n",
    "    \n",
    "    #function to help us query from our neural network\n",
    "\n",
    "    def query(self,inputs_list):\n",
    "\n",
    "            inputs = numpy.array(inputs_list,ndmin=2).T\n",
    "\n",
    "            signal_into_hidden_layer = numpy.dot(self.w_input_hidden,inputs)\n",
    "            signal_from_hidden_layer = self.activation_function(signal_into_hidden_layer)\n",
    "\n",
    "            signal_into_output_layer = numpy.dot(self.w_hidden_output,signal_from_hidden_layer)\n",
    "            network_final_output = self.activation_function(signal_into_output_layer)\n",
    "\n",
    "            return network_final_output\n",
    "        \n",
    "no_input_nodes = 784\n",
    "no_hidden_nodes = 500\n",
    "no_output_nodes = 26\n",
    "\n",
    "learning_rate_value = 0.00019\n",
    "\n",
    "#creating an instance of the neural network class\n",
    "n = neuralNetwork(no_input_nodes, no_hidden_nodes,no_output_nodes,learning_rate_value)\n",
    "\n",
    "#loading our dataset\n",
    "training_file = open(\"lehn_dataset/alphabets_train.csv\",'r')\n",
    "training_list = training_file.readlines()\n",
    "training_file.close()\n",
    "\n",
    "epochs = 3\n",
    "\n",
    "for e in range(epochs):\n",
    "    for record in training_list:\n",
    "        all_values = record.split(',')\n",
    "        train_inputs = (numpy.asfarray(all_values[1:])/ 255.0 * 0.99) + 0.01\n",
    "        train_targets = numpy.zeros(no_output_nodes) + 0.01\n",
    "        train_targets[n.alphabets.index(all_values[0])] = 0.99\n",
    "        n.train(train_inputs,train_targets)\n",
    "        pass\n",
    "\n",
    "print(\"Training Done for \", str(numpy.shape(training_list)) + \" records\")\n",
    "        "
   ]
  },
  {
   "cell_type": "code",
   "execution_count": 44,
   "id": "4a70c8ad",
   "metadata": {},
   "outputs": [
    {
     "name": "stdout",
     "output_type": "stream",
     "text": [
      "Network Accuracy 0.2962962962962963\n"
     ]
    }
   ],
   "source": [
    "#loading our full test dataset\n",
    "test_file = open(\"lehn_dataset/alphabets_test.csv\",'r')\n",
    "test_dataset = test_file.readlines()\n",
    "test_file.close()\n",
    "\n",
    "scorecard = []\n",
    "\n",
    "#go through all the records in the test dataset\n",
    "for record in test_dataset:\n",
    "    all_values = record.split(',')\n",
    "    label_we_want_to_predict = int(n.alphabets.index(all_values[0]))\n",
    "    inputs = numpy.asfarray(all_values[1:])\n",
    "    outputs = n.query(inputs)\n",
    "    our_network_predicted_label = numpy.argmax(outputs)\n",
    "    if(our_network_predicted_label== label_we_want_to_predict):\n",
    "        scorecard.append(1)\n",
    "    else:\n",
    "        scorecard.append(0)\n",
    "        pass\n",
    "    pass\n",
    "\n",
    "scorecard_array = numpy.asarray(scorecard)\n",
    "print(\"Network Accuracy\",scorecard_array.sum()/scorecard_array.size)"
   ]
  },
  {
   "cell_type": "code",
   "execution_count": 5,
   "id": "0c6b3f71",
   "metadata": {},
   "outputs": [
    {
     "name": "stdout",
     "output_type": "stream",
     "text": [
      "4\n"
     ]
    }
   ],
   "source": []
  },
  {
   "cell_type": "code",
   "execution_count": null,
   "id": "f9de59a2",
   "metadata": {},
   "outputs": [],
   "source": []
  }
 ],
 "metadata": {
  "kernelspec": {
   "display_name": "Python 3 (ipykernel)",
   "language": "python",
   "name": "python3"
  },
  "language_info": {
   "codemirror_mode": {
    "name": "ipython",
    "version": 3
   },
   "file_extension": ".py",
   "mimetype": "text/x-python",
   "name": "python",
   "nbconvert_exporter": "python",
   "pygments_lexer": "ipython3",
   "version": "3.9.7"
  }
 },
 "nbformat": 4,
 "nbformat_minor": 5
}
