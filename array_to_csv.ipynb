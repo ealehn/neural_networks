{
 "cells": [
  {
   "cell_type": "code",
   "execution_count": 14,
   "id": "25cae151",
   "metadata": {},
   "outputs": [],
   "source": [
    "import glob\n",
    "import numpy\n",
    "import csv\n",
    "import imageio\n",
    "\n",
    "#converting images to excel for train dataset\n",
    "our_own_dataset = []\n",
    "for image_file_name in glob.glob('lehn_dataset/alphabets_train/' + '*' + '_lehn_' + '*' + '.png'):\n",
    "    label = image_file_name[29:30]\n",
    "    img_array = imageio.imread(image_file_name, as_gray=True)\n",
    "    img_data = 255.0 - img_array.reshape(784)\n",
    "    record = numpy.append(label,img_data)\n",
    "    our_own_dataset.append(record)\n",
    "    pass\n",
    "\n",
    "with open('lehn_dataset/alphabets_train.csv','w',newline=\"\") as f:\n",
    "    write = csv.writer(f)\n",
    "    write.writerows(our_own_dataset)\n"
   ]
  },
  {
   "cell_type": "code",
   "execution_count": null,
   "id": "3ff87fbc",
   "metadata": {},
   "outputs": [],
   "source": [
    "import glob\n",
    "import numpy\n",
    "import csv\n",
    "import imageio\n",
    "\n",
    "#converting images to excel for test dataset\n",
    "\n",
    "our_own_dataset = []\n",
    "for image_file_name in glob.glob('lehn_dataset/alphabets_test/' + '*' + '_lehn_' + '*' + '.png'):\n",
    "    label = image_file_name[28:29]\n",
    "    img_array = imageio.imread(image_file_name, as_gray=True)\n",
    "    img_data = 255 - img_array.reshape(784)\n",
    "    record = numpy.append(label,img_data)\n",
    "    our_own_dataset.append(record)\n",
    "    pass\n",
    "\n",
    "with open('lehn_dataset/alphabets_test.csv','w',newline=\"\") as f:\n",
    "    write = csv.writer(f)\n",
    "    write.writerows(our_own_dataset)\n",
    "    \n",
    "\n",
    "print(numpy.array(our_own_dataset).shape)"
   ]
  },
  {
   "cell_type": "code",
   "execution_count": null,
   "id": "6ec50bb2",
   "metadata": {},
   "outputs": [],
   "source": [
    "import matplotlib.pyplot\n",
    "import numpy\n",
    "\n",
    "test_data_file = open(\"lehn_dataset/alphabets_test.csv\",'r')\n",
    "test_data_list = test_data_file.readlines()\n",
    "test_data_file.close()\n",
    "scorecard = []\n",
    "\n",
    "all_values = test_data_list[3].split(',')\n",
    "img_data = numpy.asfarray(all_values[1:]).reshape(28,28)\n",
    "\n",
    "\n",
    "matplotlib.pyplot.imshow(img_data,cmap='Greys',interpolation='None')"
   ]
  },
  {
   "cell_type": "code",
   "execution_count": 14,
   "id": "b9f7d077",
   "metadata": {},
   "outputs": [],
   "source": [
    "import glob\n",
    "import numpy\n",
    "import csv\n",
    "import imageio\n",
    "\n",
    "#converting images to excel for test dataset\n",
    "\n",
    "our_own_dataset = []\n",
    "for image_file_name in glob.glob('my_own_images/2828_my_own_' + '*' + '.png'):\n",
    "    label = image_file_name[26:27]\n",
    "    img_array = imageio.imread(image_file_name, as_gray=True)\n",
    "    img_data = 255 - img_array.reshape(784)\n",
    "    record = numpy.append(label,img_data)\n",
    "    our_own_dataset.append(record)\n",
    "    pass\n",
    "\n",
    "with open('my_own_images/2828_my_own.csv','w',newline=\"\") as f:\n",
    "    write = csv.writer(f)\n",
    "    write.writerows(our_own_dataset)\n",
    "    "
   ]
  },
  {
   "cell_type": "code",
   "execution_count": null,
   "id": "e732af41",
   "metadata": {},
   "outputs": [],
   "source": []
  }
 ],
 "metadata": {
  "kernelspec": {
   "display_name": "Python 3 (ipykernel)",
   "language": "python",
   "name": "python3"
  },
  "language_info": {
   "codemirror_mode": {
    "name": "ipython",
    "version": 3
   },
   "file_extension": ".py",
   "mimetype": "text/x-python",
   "name": "python",
   "nbconvert_exporter": "python",
   "pygments_lexer": "ipython3",
   "version": "3.9.7"
  }
 },
 "nbformat": 4,
 "nbformat_minor": 5
}
